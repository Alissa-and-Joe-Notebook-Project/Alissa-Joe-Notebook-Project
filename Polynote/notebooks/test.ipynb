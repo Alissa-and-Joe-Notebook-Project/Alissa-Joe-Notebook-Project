{
  "metadata" : {
    "config" : {
      "dependencies" : {
        
      },
      "exclusions" : [
      ],
      "repositories" : [
      ],
      "env" : {
        
      }
    },
    "language_info" : {
      "name" : "scala"
    }
  },
  "nbformat" : 4,
  "nbformat_minor" : 0,
  "cells" : [
    {
      "cell_type" : "markdown",
      "execution_count" : 0,
      "metadata" : {
        "language" : "text"
      },
      "language" : "text",
      "source" : [
        "# test\n",
        "\n",
        "This is a text cell. Start editing!"
      ],
      "outputs" : [
      ]
    },
    {
      "cell_type" : "code",
      "execution_count" : 1,
      "metadata" : {
        "cell.metadata.exec_info" : {
          "startTs" : 1649193929542,
          "endTs" : 1649193930502
        },
        "language" : "scala"
      },
      "language" : "scala",
      "source" : [
        "import scala.util.Random.nextGaussian\n",
        "\n",
        "println(\"this is some console output!\")\n",
        "\n",
        "val x = 50\n",
        "\n",
        "case class Point(x: Double, y: Double)\n",
        "List.fill(x)(Point(nextGaussian * 2 + 5, nextGaussian * 4))"
      ],
      "outputs" : [
      ]
    },
    {
      "cell_type" : "code",
      "execution_count" : 2,
      "metadata" : {
        "cell.metadata.exec_info" : {
          "startTs" : 1649193930528,
          "endTs" : 1649193930559
        },
        "language" : "python"
      },
      "language" : "python",
      "source" : [
        "print(\"This is in python\", x)"
      ],
      "outputs" : [
      ]
    },
    {
      "cell_type" : "code",
      "execution_count" : 3,
      "metadata" : {
        "cell.metadata.exec_info" : {
          "startTs" : 1649194013868,
          "endTs" : 1649194014766
        },
        "language" : "scala"
      },
      "language" : "scala",
      "source" : [
        "val colors = Array(\"red\", \"green\", \"blue\")\n",
        "val n = 750\n",
        "val flattenedLength = colors.length * n * 2 // 2 for x and y\n",
        "val data = (0 until flattenedLength).map(_ => Math.random()).toArray // converted to Array for Python interop"
      ],
      "outputs" : [
      ]
    },
    {
      "cell_type" : "code",
      "execution_count" : 4,
      "metadata" : {
        "cell.metadata.exec_info" : {
          "startTs" : 1649194016910,
          "endTs" : 1649194016946
        },
        "language" : "python"
      },
      "language" : "python",
      "source" : [
        "import matplotlib.pyplot as plt\n",
        "from numpy.random import rand\n",
        "\n",
        "fig, ax = plt.subplots()\n",
        "\n",
        "for color in colors:\n",
        "    # since data is just a 1-D array we need to split it up to fit the matplotlib example\n",
        "    x = data[:n]\n",
        "    data = data[n:]\n",
        "    y = data[:n]\n",
        "    data = data[n:]\n",
        "\n",
        "    scale = 200.0 * rand(n)\n",
        "    ax.scatter(x, y, c=color, s=scale, label=color,\n",
        "               alpha=0.3, edgecolors='none')\n",
        "\n",
        "ax.legend()\n",
        "ax.grid(True)\n",
        "\n",
        "plt.show()"
      ],
      "outputs" : [
      ]
    }
  ]
}