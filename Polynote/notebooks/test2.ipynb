{
  "metadata" : {
    "config" : {
      "dependencies" : {
        
      },
      "exclusions" : [
      ],
      "repositories" : [
      ],
      "env" : {
        
      }
    },
    "language_info" : {
      "name" : "python"
    }
  },
  "nbformat" : 4,
  "nbformat_minor" : 0,
  "cells" : [
    {
      "cell_type" : "markdown",
      "execution_count" : 0,
      "metadata" : {
        "language" : "text"
      },
      "language" : "text",
      "source" : [
        "# test2\n",
        "\n",
        "This is a text cell. Start editing!"
      ],
      "outputs" : [
      ]
    },
    {
      "cell_type" : "code",
      "execution_count" : 1,
      "metadata" : {
        "cell.metadata.exec_info" : {
          "startTs" : 1649194121889,
          "endTs" : 1649194121981
        },
        "language" : "python"
      },
      "language" : "python",
      "source" : [
        "print(\"This is python\")"
      ],
      "outputs" : [
      ]
    },
    {
      "cell_type" : "code",
      "execution_count" : 5,
      "metadata" : {
        "cell.metadata.exec_info" : {
          "startTs" : 1649272271350,
          "endTs" : 1649272275581
        },
        "language" : "python"
      },
      "language" : "python",
      "source" : [
        "print(\"Python again\")"
      ],
      "outputs" : [
      ]
    },
    {
      "cell_type" : "code",
      "execution_count" : 2,
      "metadata" : {
        "cell.metadata.exec_info" : {
          "startTs" : 1649194124506,
          "endTs" : 1649194125744
        },
        "language" : "scala"
      },
      "language" : "scala",
      "source" : [
        "import scala.util.Random.nextGaussian\n",
        "\n",
        "println(\"this is some console output!\")\n",
        "\n",
        "val x = 50\n",
        "\n",
        "case class Point(x: Double, y: Double)\n",
        "List.fill(x)(Point(nextGaussian * 2 + 5, nextGaussian * 4))"
      ],
      "outputs" : [
      ]
    },
    {
      "cell_type" : "code",
      "execution_count" : 3,
      "metadata" : {
        "cell.metadata.exec_info" : {
          "startTs" : 1649194136337,
          "endTs" : 1649194136365
        },
        "language" : "python"
      },
      "language" : "python",
      "source" : [
        "print(\"This is python\")"
      ],
      "outputs" : [
      ]
    },
    {
      "cell_type" : "code",
      "execution_count" : 4,
      "metadata" : {
        "cell.metadata.exec_info" : {
          "startTs" : 1649201291711,
          "endTs" : 1649201291850
        },
        "language" : "python"
      },
      "language" : "python",
      "source" : [
        "print(\"Python again\")"
      ],
      "outputs" : [
      ]
    }
  ]
}